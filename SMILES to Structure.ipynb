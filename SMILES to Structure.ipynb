{
 "cells": [
  {
   "cell_type": "code",
   "execution_count": 31,
   "id": "dd672918",
   "metadata": {},
   "outputs": [],
   "source": [
    "import pandas as pd\n",
    "import numpy as np\n",
    "from rdkit import Chem\n",
    "from rdkit.Chem import Draw\n",
    "import os"
   ]
  },
  {
   "cell_type": "code",
   "execution_count": 35,
   "id": "69acef95",
   "metadata": {},
   "outputs": [],
   "source": [
    "# List of SMILES strings\n",
    "data_set1 = pd.read_csv('val2_4.csv')\n",
    "smiles_list = data_set1.iloc[:,1]"
   ]
  },
  {
   "cell_type": "code",
   "execution_count": 36,
   "id": "502a4da7",
   "metadata": {},
   "outputs": [
    {
     "data": {
      "text/plain": [
       "0                             CCCc2ccc(c1ccc(C#N)cc1)cc2\n",
       "1                             CCOc2ccc(c1ccc(C#N)cc1)cc2\n",
       "2                           N#Cc2ccc(c1ccc(C#CCO)cc1)cc2\n",
       "3                            CCCCc2ccc(c1ccc(C#N)cc1)cc2\n",
       "4                            CCCOc2ccc(c1ccc(C#N)cc1)cc2\n",
       "                             ...                        \n",
       "244    FC1=CC(C(C(F)=C2)=C([H])C=C2[C@@H](CC3)CC[C@H]...\n",
       "245    FC1=CC(C(C(F)=C2)=C(F)C=C2[C@@H](CC3)CC[C@H]3C...\n",
       "246           FC(C(F)=C1)=C(F)C=C1[C@@H](OC2)OCC2CCCCCCC\n",
       "247              CCCC1CO[C@@H](C2=CC=C(C(F)(F)F)C=C2)OC1\n",
       "248    CCCC(CC1)CC[C@H]1C2=CC=C(C3=C(C(F)(F)F)C(F)=C(...\n",
       "Name: SMILES, Length: 249, dtype: object"
      ]
     },
     "execution_count": 36,
     "metadata": {},
     "output_type": "execute_result"
    }
   ],
   "source": [
    "smiles_list"
   ]
  },
  {
   "cell_type": "code",
   "execution_count": 37,
   "id": "f6b004f8",
   "metadata": {},
   "outputs": [],
   "source": [
    "# Create a directory to save the images\n",
    "if not os.path.exists('mol_images'):\n",
    "    os.makedirs('val2_4')\n",
    "\n",
    "# Loop through each SMILES string and generate an image\n",
    "for i, smile in enumerate(smiles_list):\n",
    "    mol = Chem.MolFromSmiles(smile)\n",
    "    img = Draw.MolToImage(mol)\n",
    "    img.save(f'val2_4/mol_{i}.png')"
   ]
  },
  {
   "cell_type": "code",
   "execution_count": null,
   "id": "afa82e16",
   "metadata": {},
   "outputs": [],
   "source": []
  }
 ],
 "metadata": {
  "kernelspec": {
   "display_name": "Python 3 (ipykernel)",
   "language": "python",
   "name": "python3"
  },
  "language_info": {
   "codemirror_mode": {
    "name": "ipython",
    "version": 3
   },
   "file_extension": ".py",
   "mimetype": "text/x-python",
   "name": "python",
   "nbconvert_exporter": "python",
   "pygments_lexer": "ipython3",
   "version": "3.7.9"
  }
 },
 "nbformat": 4,
 "nbformat_minor": 5
}
